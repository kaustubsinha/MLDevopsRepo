{
  "cells": [
    {
      "metadata": {
        "trusted": true
      },
      "cell_type": "code",
      "source": "from azureml.core import Workspace, Experiment, Run\nimport math, random, pickle, numpy, pandas\nimport numpy as np\nimport pandas as pd \nimport matplotlib.pyplot as plt\nimport os\nws = Workspace.from_config()\n\nexperiment = Experiment(workspace = ws, name = \"MLPredictAffairs\")\n\nrun = experiment.start_logging()",
      "execution_count": 1,
      "outputs": [
        {
          "output_type": "stream",
          "text": "Failure while loading azureml_run_type_providers. Failed to load entrypoint hyperdrive = azureml.train.hyperdrive:HyperDriveRun._from_run_dto with exception (entrypoints 0.2.3 (/home/nbuser/anaconda3_501/lib/python3.6/site-packages), Requirement.parse('entrypoints<0.4.0,>=0.3.0'), {'flake8'}).\n",
          "name": "stderr"
        }
      ]
    },
    {
      "metadata": {
        "trusted": true
      },
      "cell_type": "code",
      "source": "dataset  = pd.read_csv(\"affairs.csv\")\nfeatures =  dataset.iloc[:,:-1].values\nfeatures_opt = dataset.iloc[:,:-1].values\nlabels = dataset.iloc[:,-1].values\ncurrentDirectory = os.getcwd()\nprint(currentDirectory)",
      "execution_count": 2,
      "outputs": [
        {
          "output_type": "stream",
          "text": "/home/nbuser/library\n",
          "name": "stdout"
        }
      ]
    },
    {
      "metadata": {
        "trusted": true
      },
      "cell_type": "code",
      "source": "from sklearn.model_selection import train_test_split as tts\nfeatures_train,features_test,labels_train,labels_test = tts(features_opt,labels,test_size=0.2, random_state=0)",
      "execution_count": 3,
      "outputs": []
    },
    {
      "metadata": {
        "trusted": true
      },
      "cell_type": "code",
      "source": "from sklearn.preprocessing import OneHotEncoder\n#onehotencoder = OneHotEncoder(categorical_features=[4,5])\nonehotencoder = OneHotEncoder(categorical_features=[6,7])\nfeatures_train = onehotencoder.fit_transform(features_train).toarray()\nfeatures_test=onehotencoder.transform(features_test).toarray()",
      "execution_count": 4,
      "outputs": [
        {
          "output_type": "stream",
          "text": "/home/nbuser/anaconda3_501/lib/python3.6/site-packages/sklearn/preprocessing/_encoders.py:371: FutureWarning: The handling of integer data will change in version 0.22. Currently, the categories are determined based on the range [0, max(values)], while in the future they will be determined based on the unique values.\nIf you want the future behaviour and silence this warning, you can specify \"categories='auto'\".\nIn case you used a LabelEncoder before this OneHotEncoder to convert the categories to integers, then you can now use the OneHotEncoder directly.\n  warnings.warn(msg, FutureWarning)\n/home/nbuser/anaconda3_501/lib/python3.6/site-packages/sklearn/preprocessing/_encoders.py:392: DeprecationWarning: The 'categorical_features' keyword is deprecated in version 0.20 and will be removed in 0.22. You can use the ColumnTransformer instead.\n  \"use the ColumnTransformer instead.\", DeprecationWarning)\n",
          "name": "stderr"
        }
      ]
    },
    {
      "metadata": {
        "trusted": true
      },
      "cell_type": "code",
      "source": "from sklearn.preprocessing import StandardScaler\nsc = StandardScaler()\nfeatures_train = sc.fit_transform(features_train)\nfeatures_test = sc.transform(features_test)",
      "execution_count": 5,
      "outputs": []
    },
    {
      "metadata": {
        "trusted": true
      },
      "cell_type": "code",
      "source": "from sklearn.linear_model import LogisticRegression\nclassifier = LogisticRegression(random_state=0)\nclassifier.fit(features_train,labels_train)",
      "execution_count": 6,
      "outputs": [
        {
          "output_type": "stream",
          "text": "/home/nbuser/anaconda3_501/lib/python3.6/site-packages/sklearn/linear_model/logistic.py:433: FutureWarning: Default solver will be changed to 'lbfgs' in 0.22. Specify a solver to silence this warning.\n  FutureWarning)\n",
          "name": "stderr"
        },
        {
          "output_type": "execute_result",
          "execution_count": 6,
          "data": {
            "text/plain": "LogisticRegression(C=1.0, class_weight=None, dual=False, fit_intercept=True,\n          intercept_scaling=1, max_iter=100, multi_class='warn',\n          n_jobs=None, penalty='l2', random_state=0, solver='warn',\n          tol=0.0001, verbose=0, warm_start=False)"
          },
          "metadata": {}
        }
      ]
    },
    {
      "metadata": {
        "trusted": true
      },
      "cell_type": "code",
      "source": "labels_Pred = classifier.predict(features_test)",
      "execution_count": 7,
      "outputs": []
    },
    {
      "metadata": {
        "trusted": true
      },
      "cell_type": "code",
      "source": "print(labels_Pred)",
      "execution_count": 8,
      "outputs": [
        {
          "output_type": "stream",
          "text": "[1 0 0 ... 1 0 1]\n",
          "name": "stdout"
        }
      ]
    },
    {
      "metadata": {
        "trusted": true
      },
      "cell_type": "code",
      "source": "from sklearn.metrics import confusion_matrix\ncm = confusion_matrix(labels_test,labels_Pred)",
      "execution_count": 9,
      "outputs": []
    },
    {
      "metadata": {
        "trusted": true
      },
      "cell_type": "code",
      "source": "Score = classifier.score(features_test,labels_test)\n#PredGirl = sc.transform(onehotencoder.transform(np.array([3,25,1,16,4,2]).reshape(1,-1)).toarray())\nPredGirl = sc.transform(onehotencoder.transform(np.array([3,25,3,1,4,16,3,2]).reshape(1,-1)).toarray())\nprint(classifier.predict(PredGirl))",
      "execution_count": 10,
      "outputs": [
        {
          "output_type": "stream",
          "text": "[0]\n",
          "name": "stdout"
        }
      ]
    },
    {
      "metadata": {
        "trusted": true
      },
      "cell_type": "code",
      "source": "print(\"Run completed 1\")\n\nrun.complete()\nrun\nexperiment",
      "execution_count": 11,
      "outputs": [
        {
          "output_type": "stream",
          "text": "Run completed 1\n",
          "name": "stdout"
        },
        {
          "output_type": "execute_result",
          "execution_count": 11,
          "data": {
            "text/html": "<table style=\"width:100%\"><tr><th>Name</th><th>Workspace</th><th>Report Page</th><th>Docs Page</th></tr><tr><td>MLPredictAffairs</td><td>mlopstrialws</td><td><a href=\"https://ml.azure.com/experiments/MLPredictAffairs?wsid=/subscriptions/22b4e5a3-9229-45e2-a9f6-8bbc0a6ebdd3/resourcegroups/ml-ops-trial/workspaces/mlopstrialws\" target=\"_blank\" rel=\"noopener\">Link to Azure Machine Learning studio</a></td><td><a href=\"https://docs.microsoft.com/en-us/python/api/azureml-core/azureml.core.experiment.Experiment?view=azure-ml-py\" target=\"_blank\" rel=\"noopener\">Link to Documentation</a></td></tr></table>",
            "text/plain": "Experiment(Name: MLPredictAffairs,\nWorkspace: mlopstrialws)"
          },
          "metadata": {}
        }
      ]
    }
  ],
  "metadata": {
    "kernelspec": {
      "name": "python36",
      "display_name": "Python 3.6",
      "language": "python"
    },
    "language_info": {
      "mimetype": "text/x-python",
      "nbconvert_exporter": "python",
      "name": "python",
      "pygments_lexer": "ipython3",
      "version": "3.6.6",
      "file_extension": ".py",
      "codemirror_mode": {
        "version": 3,
        "name": "ipython"
      }
    }
  },
  "nbformat": 4,
  "nbformat_minor": 2
}